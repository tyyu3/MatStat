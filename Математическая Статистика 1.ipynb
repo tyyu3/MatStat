{
 "cells": [
  {
   "cell_type": "markdown",
   "metadata": {},
   "source": [
    "# Домашнее задание 1\n",
    "## Вероятностные распределения\n",
    "### Щербаков Игорь, СКБ 171\n",
    "---"
   ]
  },
  {
   "cell_type": "markdown",
   "metadata": {},
   "source": [
    "## 1.1 Выбор одного дискретного распределения и одного непрерывного распределения"
   ]
  },
  {
   "cell_type": "markdown",
   "metadata": {},
   "source": [
    "a) Геометрическое распределение. Распределение обозначается $$\\xi \\sim  Geom(p)$$\n",
    "Распределение Парето задается следующей функцией вероятности:\n",
    "$$p_\\xi(x)=P(\\xi=x)=p(1-p)^{x}, x\\in N \\cup \\{0\\},0<p<1$$\n",
    "$$p_i=p_\\xi(x_i)$$\n",
    "\n",
    "Функция распределения:\n",
    "\n",
    "$$F_\\xi(x)=\\sum\\limits_{i=0}^{x}p(i)=p+p(1-p)+p(1-p)^2+...+p(1-p)^x=(1-(1-p))(1+(1-p)+(1-p)^2+...+(1-p)^x)$$\n",
    "\n",
    "$$F_\\xi(x)=1-(1-p)^{x+1}$$\n",
    "\n",
    "Распределение имеет параметр p - вероятность успеха\n",
    "\n",
    "б) Распределение Парето. \n",
    "Распределение обозначается $$\\xi \\sim  P(\\alpha, c_0)$$\n",
    "Распределение Парето задается следующей функцией распределения и следующей плотностью распределения [1]:\n",
    "$$F_\\xi(x)=P\\{\\xi<x\\}=1-\\left(\\dfrac{c_0}{x}\\right)^\\alpha, x>c_0$$\n",
    "$$f_\\xi(x)=\\dfrac{\\alpha}{c_0}\\left(\\dfrac{c_0}{x}\\right)^{\\alpha+1}, \\ x>c_0$$\n",
    "Распределение имеет два параметра $\\alpha, \\alpha>0$ и $c_0$\n",
    "\n",
    "$с_0$ - коэффициент масштаба\n",
    "$\\alpha$ - коэффициент формы"
   ]
  },
  {
   "cell_type": "markdown",
   "metadata": {},
   "source": [
    "## 1.2 Описание основных характеристик распределения"
   ]
  },
  {
   "cell_type": "markdown",
   "metadata": {},
   "source": [
    "а) Выведем матожидание геометрического распределения:\n",
    "\n",
    "$E\\xi=\\sum\\limits_{i=1}^{\\infty}i p_i=\\sum\\limits_{i=1}^{\\infty}ip(1-p)^{i}=\\dfrac{1-p}{p}$\n",
    "\n",
    "Выведем дисперсию геометрического распределения:\n",
    "\n",
    "$E\\xi^2=\\sum\\limits_{i=1}^{\\infty}i^2 p_i=\\sum\\limits_{i=1}^{\\infty}i^2p(1-p)^{i}=\\dfrac{2-3p+p^2}{p^2}$\n",
    "\n",
    "$D\\xi=E\\xi^2-(E\\xi)^2=\\dfrac{1-p}{p^2}$"
   ]
  },
  {
   "cell_type": "markdown",
   "metadata": {},
   "source": [
    "Функция дискретная, неотрицательная. Производящая функция:\n",
    "\n",
    "$G(z)=\\sum\\limits_{x=0}^{\\infty}p_x z^x=\\sum\\limits_{x=0}^{\\infty} p(1-p)^x z^x=\\dfrac{p}{1-(1-p)z}$"
   ]
  },
  {
   "cell_type": "markdown",
   "metadata": {},
   "source": [
    "Производящая функция моментов:\n",
    "\n",
    "$\\phi_x(z)=\\sum\\limits_{j=0}^{\\infty}e^{j z}p_j=\\dfrac{p}{1-(1-p)e^{z}}$\n",
    "\n",
    "(Гамма-функция дувх аргументов - неполная гамма-функция)\n",
    "\n",
    "Характерестическая функция:\n",
    "\n",
    "$g_x(z)=\\sum\\limits_{j=0}^{\\infty}e^{i z j}p_j=\\dfrac{p}{1-(1-p)e^{i z}}$"
   ]
  },
  {
   "cell_type": "markdown",
   "metadata": {},
   "source": [
    "Гистограмма вероятностей"
   ]
  },
  {
   "cell_type": "code",
   "execution_count": 1,
   "metadata": {},
   "outputs": [],
   "source": [
    "from matplotlib import pyplot as plt\n",
    "\n",
    "def barplot(x_data, y_data, error_data, x_label=\"\", y_label=\"\", title=\"\"):\n",
    "    _, ax = plt.subplots()\n",
    "    ax.bar(x_data, y_data, color = '#539caf', align = 'center', width=1)\n",
    "    ax.errorbar(x_data, y_data, yerr = error_data, color = '#297083', ls = 'none', lw = 2, capthick = 2)\n",
    "    ax.set_ylabel(y_label)\n",
    "    ax.set_xlabel(x_label)\n",
    "    ax.set_title(title)\n",
    "    \n",
    "def geom_pmf(p, x):\n",
    "    return p*(1-p)**x\n",
    "\n",
    "def make_p_hist(n, p):\n",
    "    x=[]\n",
    "    y=[]\n",
    "    for i in range(0,n+1):\n",
    "        x+=[i]\n",
    "        y+=[geom_pmf(p,i)]\n",
    "    barplot(list(map(lambda t:t+0.5,x)),y,0, x_label=\"x\", y_label=\"Вероятность\", title=\"p=\"+str(p))\n",
    "    \n",
    "make_p_hist(10, 0.6)"
   ]
  },
  {
   "cell_type": "markdown",
   "metadata": {},
   "source": [
    "График функции распределения:"
   ]
  },
  {
   "cell_type": "code",
   "execution_count": 2,
   "metadata": {},
   "outputs": [
    {
     "data": {
      "image/png": "[encoded data removed]",
      "text/plain": [
       "<Figure size 432x288 with 1 Axes>"
      ]
     },
     "metadata": {
      "needs_background": "light"
     },
     "output_type": "display_data"
    }
   ],
   "source": [
    "import numpy as np\n",
    "from matplotlib import pyplot as plt\n",
    "\n",
    "def cdf(x,p):\n",
    "    return 1-(1-p)**(x)\n",
    "plotcdf=[]\n",
    "for i in np.linspace(1,10,10):\n",
    "    plotcdf+=[[i,cdf(i, 0.5)]]\n",
    "data = np.array(plotcdf)\n",
    "x, y = data.T\n",
    "barplot(x-0.5,y,0, title=\"p=\"+str(0.5))"
   ]
  },
  {
   "cell_type": "markdown",
   "metadata": {},
   "source": [
    "б) Выведем матожидание распределения Парето:\n",
    "\n",
    "$E\\xi=\\int\\limits_{c_0}^{+\\infty}x f_\\xi(x)dx=\\int\\limits_{c_0}^{+\\infty}x \\dfrac{\\alpha c_0^\\alpha}{x^{\\alpha+1}}dx=\\alpha c_0^\\alpha\\int\\limits_{c_0}^{+\\infty}\\dfrac{1}{x^\\alpha}dx = \\alpha c_0^\\alpha \\dfrac{c_0^{1-\\alpha}}{\\alpha-1}=\\dfrac{\\alpha c_0}{\\alpha-1}$, при условии $\\alpha>1$\n",
    "\n",
    "Выведем дисперсию распределения Парето:\n",
    "\n",
    "$D\\xi=E\\xi^2-(E\\xi)^2 \\\\ E\\xi^2=\\int\\limits_{c_0}^{+\\infty}x^2 \\dfrac{\\alpha c_0^\\alpha}{x^{\\alpha+1}}dx=\\alpha c_0^\\alpha\\int\\limits_{c_0}^{+\\infty}\\dfrac{1}{x^{\\alpha-1}}dx=\\dfrac{\\alpha c_0^2}{\\alpha-2} \\text{, при } \\alpha>2$\n",
    "\n",
    "Тогда $D\\xi=\\dfrac{\\alpha c_0^2}{(\\alpha-1)^2(\\alpha-2)}$ "
   ]
  },
  {
   "cell_type": "markdown",
   "metadata": {},
   "source": [
    "Производящая функция моментов:\n",
    "\n",
    "$\\phi_x(z)=Ee^{zx}=\\int\\limits_{c_0}^{\\infty}e^{zx}\\dfrac{\\alpha c_0^\\alpha}{x^{\\alpha+1}}dx=\\alpha c_0^\\alpha \\int\\limits_{c_0}^{\\infty}x^{-\\alpha-1}e^{zx}dx=\\biggr\\vert zx=-t\\biggr\\vert=\\alpha c_0^\\alpha \\int\\limits_{-z c_0}^{\\infty}\\left(\\dfrac{-t}{z}\\right)^{-\\alpha-1}e^{-t}\\dfrac{dt}{-z}=\\alpha(-z c_0)^\\alpha \\Gamma(-\\alpha,-z c_0), z<0$\n",
    "\n",
    "(Гамма-функция дувх аргументов - неполная гамма-функция)\n",
    "\n",
    "Характерестическая функция:\n",
    "\n",
    "$g_x(z)=Ee^{zxi}=\\int\\limits_{c_0}^{\\infty}e^{zxi}\\dfrac{\\alpha c_0^\\alpha}{x^{\\alpha+1}}dx=\\alpha c_0^\\alpha \\int\\limits_{c_0}^{\\infty}x^{-\\alpha-1}e^{zxi}dx=\\biggr\\vert zxi=-t\\biggr\\vert=\\alpha c_0^\\alpha \\int\\limits_{-i z c_0}^{\\infty}\\left(\\dfrac{-t}{zi}\\right)^{-\\alpha-1}e^{-t}\\dfrac{dt}{-zi}=\\alpha(-z i c_0)^\\alpha \\Gamma(-\\alpha,- i z c_0)$"
   ]
  },
  {
   "cell_type": "markdown",
   "metadata": {},
   "source": [
    "График плотности вероятности:"
   ]
  },
  {
   "cell_type": "code",
   "execution_count": 29,
   "metadata": {},
   "outputs": [
    {
     "data": {
      "image/png": "[encoded data removed]",
      "text/plain": [
       "<Figure size 432x288 with 1 Axes>"
      ]
     },
     "metadata": {
      "needs_background": "light"
     },
     "output_type": "display_data"
    }
   ],
   "source": [
    "import numpy as np\n",
    "from matplotlib import pyplot as plt\n",
    "\n",
    "def pdf(x, alpha=2, c0=1): # alpha = 2 и 3 , c0 = 1\n",
    "    return alpha/c0*(c0/x)**(alpha+1)\n",
    "\n",
    "plotpdf=[]\n",
    "for i in np.linspace(1,10,110):\n",
    "    plotpdf+=[[i,pdf(i), pdf(i, alpha=3)]]\n",
    "plotpdf=plotpdf\n",
    "data = np.array(plotpdf)\n",
    "x, y, z = data.T\n",
    "plt.plot(x,y,label='alpha=2')\n",
    "plt.plot(x,z,label='alpha=3')\n",
    "plt.legend()\n",
    "plt.show()"
   ]
  },
  {
   "cell_type": "markdown",
   "metadata": {},
   "source": [
    "График функции распределения:"
   ]
  },
  {
   "cell_type": "code",
   "execution_count": 18,
   "metadata": {},
   "outputs": [
    {
     "data": {
      "image/png": "[encoded data removed]",
      "text/plain": [
       "<Figure size 432x288 with 1 Axes>"
      ]
     },
     "metadata": {
      "needs_background": "light"
     },
     "output_type": "display_data"
    }
   ],
   "source": [
    "import numpy as np\n",
    "from matplotlib import pyplot as plt\n",
    "\n",
    "def cdf(x, alpha=2, c0=1): # alpha = 2 и 3 , c0 = 1\n",
    "    return 1-(c0/x)**alpha\n",
    "plotcdf=[]\n",
    "for i in np.linspace(1,10,100):\n",
    "    plotcdf+=[[i,cdf(i),cdf(i, alpha=3)]]\n",
    "plotcdf=[[0, 0,0]]+plotcdf\n",
    "data = np.array(plotcdf)\n",
    "x, y, z = data.T\n",
    "plt.plot(x,y,label='alpha=2')\n",
    "plt.plot(x,z,label='alpha=3')\n",
    "plt.legend()\n",
    "plt.show()\n"
   ]
  },
  {
   "cell_type": "markdown",
   "metadata": {},
   "source": [
    "## 1.3 Поиск примеров событий, которые могут быть описаны выбранными случайными величинами"
   ]
  },
  {
   "cell_type": "markdown",
   "metadata": {},
   "source": [
    "a) В общем случае геометрическое распределение описывает распределение дискретной случайной величины, равной количеству испытаний случайного эксперимента с двумя возможными резултатами (\"успех\" и \"неуспех\") до наблюдения первого успеха. \n",
    "\n",
    "\n",
    "Типичной интерпретацией геометрического распределения является эксперимент с подбрасыванием монетки. Вероятность события \n",
    "A = {первый раз мы первый раз получим \"орла\" после i \"неуспешных\" бросков (\"решки\")}: P(A) = $0.5\\cdot0.5^i$. Здесь параметр p - вероятность выбросить \"орла\".\n",
    "\n",
    "Нетипичной интерпретацией геометричесого распределения является такая ситуация. Предположим мы посылаем биты некого сообщения до первой ошибки. Пусть вероятность ошибки p=0.05. Тогда ошибки распределены геометрически. В таком случае мы можем говорить, что средний размер переданных сообщений, состоящих из правильных битов будет стремиться к мат. ожиданию геометрического распределения с параметром p. Т.е. $\\dfrac{0.95}{0.05}=19$  \n",
    "\n",
    "б) В общем случае распределение Парето описывает связь места (ранга) в упорядоченном \"рейтинге\" величин и частоты, с которой встречаются эти величины.\n",
    "\n",
    "Примером интерпретации распределения Парето можно считать закон лингвистики, известный как Закон Ципфа. Если все слова языка (или просто достаточно длинного текста) упорядочить по убыванию частоты их использования, то частота n-го слова в таком списке окажется приблизительно обратно пропорциональной его порядковому номеру x (рангу слова). Эта связь описывается распределением Парето [3].\n",
    "\n",
    "Другим примером интерпретации распределения Парето может являться распределение числа жителей в населенных пунктах крупнее определенного размера в некоторой стране. Покажем это на примере 40 крупнейших городов Германии.\n",
    "Нормируем размер городов по населению крупнейшего, Берлина. Ниже приведены значение для первых 5 городов, упорядоченных по-убыванию.\n",
    "Т.к. мы произвольно выбрали способ нормировки, добавим еще один пармаетр - нормировку по y и функции плотности вероятности Парето (параметр flt).\n",
    "Используя возможности библиотеки SciPy, подберем оптимальные параметры так, чтобы получить минимальное СКО функции от реальных данных. Параметр $c_0$ оставим равным 1 по его смыслу как коэффициент масштаба. "
   ]
  },
  {
   "cell_type": "code",
   "execution_count": 19,
   "metadata": {
    "scrolled": false
   },
   "outputs": [
    {
     "data": {
      "text/html": [
       "<div>\n",
       "<style scoped>\n",
       "    .dataframe tbody tr th:only-of-type {\n",
       "        vertical-align: middle;\n",
       "    }\n",
       "\n",
       "    .dataframe tbody tr th {\n",
       "        vertical-align: top;\n",
       "    }\n",
       "\n",
       "    .dataframe thead th {\n",
       "        text-align: right;\n",
       "    }\n",
       "</style>\n",
       "<table border=\"1\" class=\"dataframe\">\n",
       "  <thead>\n",
       "    <tr style=\"text-align: right;\">\n",
       "      <th></th>\n",
       "      <th>Rating</th>\n",
       "      <th>Population</th>\n",
       "    </tr>\n",
       "  </thead>\n",
       "  <tbody>\n",
       "    <tr>\n",
       "      <th>0</th>\n",
       "      <td>1</td>\n",
       "      <td>1.00</td>\n",
       "    </tr>\n",
       "    <tr>\n",
       "      <th>1</th>\n",
       "      <td>2</td>\n",
       "      <td>0.51</td>\n",
       "    </tr>\n",
       "    <tr>\n",
       "      <th>2</th>\n",
       "      <td>3</td>\n",
       "      <td>0.41</td>\n",
       "    </tr>\n",
       "    <tr>\n",
       "      <th>3</th>\n",
       "      <td>4</td>\n",
       "      <td>0.30</td>\n",
       "    </tr>\n",
       "    <tr>\n",
       "      <th>4</th>\n",
       "      <td>5</td>\n",
       "      <td>0.21</td>\n",
       "    </tr>\n",
       "  </tbody>\n",
       "</table>\n",
       "</div>"
      ],
      "text/plain": [
       "   Rating  Population\n",
       "0       1        1.00\n",
       "1       2        0.51\n",
       "2       3        0.41\n",
       "3       4        0.30\n",
       "4       5        0.21"
      ]
     },
     "execution_count": 19,
     "metadata": {},
     "output_type": "execute_result"
    }
   ],
   "source": [
    "import pandas as pd\n",
    "from scipy.optimize import curve_fit\n",
    "pdata=pd.read_csv(\"German1.csv\")\n",
    "pdata.head()"
   ]
  },
  {
   "cell_type": "code",
   "execution_count": 20,
   "metadata": {
    "scrolled": true
   },
   "outputs": [
    {
     "data": {
      "text/plain": [
       "array([1.65135301e-06, 9.99241407e-01, 1.52750299e-06])"
      ]
     },
     "execution_count": 20,
     "metadata": {},
     "output_type": "execute_result"
    }
   ],
   "source": [
    "def pdf(x, alpha=2, c0=1):\n",
    "    return alpha/c0*(c0/x)**(alpha+1)\n",
    "\n",
    "def pdf_flt(x, alpha, c0, flt):\n",
    "    return pdf(x, alpha, c0)/flt\n",
    "    \n",
    "x=pdata[\"Rating\"].values\n",
    "y=pdata[\"Population\"].values\n",
    "popt, pcov = curve_fit(pdf_flt, x, y,bounds=([0,0.99,0], [3, 1, 100])) #Подбор параметров для минимального СКО\n",
    "popt #Параметры"
   ]
  },
  {
   "cell_type": "code",
   "execution_count": 21,
   "metadata": {},
   "outputs": [
    {
     "data": {
      "image/png": "[encoded data removed]",
      "text/plain": [
       "<Figure size 432x288 with 1 Axes>"
      ]
     },
     "metadata": {
      "needs_background": "light"
     },
     "output_type": "display_data"
    }
   ],
   "source": [
    "plt.plot(x, y, 'b-', label='data', color=\"black\")\n",
    "plt.plot(x, pdf_flt(x, *popt), 'r-', label='fit: alpha=%5.7f, c0=%5.3f, flt=%5.6f' % tuple(popt))\n",
    "plt.legend()\n",
    "plt.show()"
   ]
  },
  {
   "cell_type": "markdown",
   "metadata": {},
   "source": [
    "Получили, что можно сказать, что распределение населения 40 крупнейших городов Германии очень близко к распределению Парето с параметрами $\\alpha=1.65\\cdot10^{-6}\\text{ и }c_0=1$."
   ]
  },
  {
   "cell_type": "markdown",
   "metadata": {},
   "source": [
    "## 1.4 Описание способа моделирования выбранных случайных величин"
   ]
  },
  {
   "cell_type": "markdown",
   "metadata": {},
   "source": [
    "a) Для выбраной величины известно явно заданная функция вероятности $p_\\xi(x)=p(1-p)^{x}, x\\in N \\cup \\{0\\},0<p<1$:\n",
    "\n",
    "Разобьем полуинтервал $[0, 1)$ на полуинтервалы $[0,p_1),[p_1,p1+p_2),[p_1+p_2,p_1+p_2+p_3), \\ldots$ \n",
    "\n",
    "Тогда длинна $i$-того отрезка будет пропорциональна вероятности получить число i при генерации случайного числа из нашего распределения. Тогда, используя выборку из равномерного распределения на $[0,1)$ мы можем получить выборку чисел нашего распределения, наблюдая в какой из полуинтервалов \"попадет\" каждое значение. [4]\n"
   ]
  },
  {
   "cell_type": "code",
   "execution_count": 22,
   "metadata": {},
   "outputs": [
    {
     "data": {
      "text/plain": [
       "[5, 1, 0, 0, 0, 0, 0, 3, 1, 2, 0, 1, 0, 0, 0, 0, 3, 1, 1, 0]"
      ]
     },
     "execution_count": 22,
     "metadata": {},
     "output_type": "execute_result"
    }
   ],
   "source": [
    "import random\n",
    "def geom_pmf(x, p):\n",
    "    return p*(1-p)**x\n",
    "\n",
    "def generate_geom_sample(p = 0.5, sample_size = 100):\n",
    "    res = []\n",
    "    for i in range(sample_size):\n",
    "        number=0;\n",
    "        length=0;\n",
    "        x=random.uniform(0,1) # [2]\n",
    "        while(x>=length+geom_pmf(number, p)):\n",
    "            length+=geom_pmf(number, p)\n",
    "            number+=1\n",
    "        res+=[number]\n",
    "    return res\n",
    "sample = generate_geom_sample(0.5, 1000) #p=0.5\n",
    "sample[0:20]"
   ]
  },
  {
   "cell_type": "markdown",
   "metadata": {},
   "source": [
    "Построим график эмпирической функции распределения для проверки"
   ]
  },
  {
   "cell_type": "code",
   "execution_count": 23,
   "metadata": {},
   "outputs": [],
   "source": [
    "import numpy as np\n",
    "from matplotlib import pyplot as plt\n",
    "geom_test=[]\n",
    "for i in np.linspace(1,10,10):\n",
    "    geom_test+=[[i ,len([1 for t in sample if t<i])/1000]]"
   ]
  },
  {
   "cell_type": "code",
   "execution_count": 30,
   "metadata": {},
   "outputs": [
    {
     "data": {
      "image/png": "[encoded data removed]",
      "text/plain": [
       "<Figure size 432x288 with 1 Axes>"
      ]
     },
     "metadata": {
      "needs_background": "light"
     },
     "output_type": "display_data"
    }
   ],
   "source": [
    "def barplot(x_data, y_data, error_data, x_label=\"\", y_label=\"\", title=\"p=0.5\"):\n",
    "    _, ax = plt.subplots()\n",
    "    ax.bar(x_data, y_data, color = '#539caf', align = 'center', width=1)\n",
    "    ax.errorbar(x_data, y_data, yerr = error_data, color = '#297083', ls = 'none', lw = 4, capthick = 2)\n",
    "    ax.set_ylabel(y_label)\n",
    "    ax.set_xlabel(x_label)\n",
    "    ax.set_title(title)\n",
    "\n",
    "data = np.array(geom_test) \n",
    "x, y = data.T\n",
    "barplot(list(map(lambda t:t-0.5,x)),y,0)"
   ]
  },
  {
   "cell_type": "markdown",
   "metadata": {},
   "source": [
    "б) Для выбраной величины известна явно заднанная функция распределения $F_\\xi(x)=1-\\left(\\dfrac{c_0}{x}\\right)^\\alpha, x>c_0$\n",
    "\n",
    "Возьмем выборку $u_1, u_2, ..., u_n \\sim R(0,1)$\n",
    "\n",
    "$P(u_i<t)=t, \\forall t \\in [0,1)$\n",
    "\n",
    "$P(F_\\xi^{-1}(u_i)<x)=P(u_i<F_\\xi(x))=F(x)$, таким образом мы можем моделировать случайную величину применяя $F_\\xi^{-1}(x)$ к выборке $u_i$"
   ]
  },
  {
   "cell_type": "code",
   "execution_count": 25,
   "metadata": {},
   "outputs": [
    {
     "data": {
      "text/plain": [
       "[1.0905878566628746,\n",
       " 1.5210005248918046,\n",
       " 1.1924242356603958,\n",
       " 3.966558509255586,\n",
       " 3.1287897589300036,\n",
       " 1.9309412090664406,\n",
       " 1.9074376584494426,\n",
       " 1.0009667870730607,\n",
       " 1.1055819161632672,\n",
       " 2.4517419516925885]"
      ]
     },
     "execution_count": 25,
     "metadata": {},
     "output_type": "execute_result"
    }
   ],
   "source": [
    "import random\n",
    "def inverse_pareto_cdf(y, alpha, c0):\n",
    "    return c0/((1-y))**(1/alpha)\n",
    "def generate_pareto_sample(alpha, c0 = 1, sample_size = 10):\n",
    "        result=[]\n",
    "        for i in range(sample_size):\n",
    "            x=random.uniform(0,1)  \n",
    "            result+=[inverse_pareto_cdf(x, alpha, c0)]\n",
    "        return result\n",
    "sample = generate_pareto_sample(2,1,1000) # alpha = 2 , c0 = 1\n",
    "sample[:10]"
   ]
  },
  {
   "cell_type": "markdown",
   "metadata": {},
   "source": [
    "Построим график эмпирической функции распределения для проверки"
   ]
  },
  {
   "cell_type": "code",
   "execution_count": 26,
   "metadata": {},
   "outputs": [],
   "source": [
    "pareto_test=[]\n",
    "for i in np.linspace(0,10,110):\n",
    "    pareto_test+=[[i ,len([1 for t in sample if t<i])/1000]]"
   ]
  },
  {
   "cell_type": "code",
   "execution_count": 27,
   "metadata": {},
   "outputs": [
    {
     "data": {
      "image/png": "[encoded data removed]",
      "text/plain": [
       "<Figure size 432x288 with 1 Axes>"
      ]
     },
     "metadata": {
      "needs_background": "light"
     },
     "output_type": "display_data"
    }
   ],
   "source": [
    "import numpy as np\n",
    "from matplotlib import pyplot as plt\n",
    "\n",
    "data = np.array(pareto_test) \n",
    "x, y = data.T\n",
    "plt.plot(x,y)\n",
    "plt.show()"
   ]
  },
  {
   "cell_type": "markdown",
   "metadata": {},
   "source": [
    "## Источники\n",
    "1. Айвазян С. А. и др. Прикладная статистика: Основы моделирования и первичная обработка данных. Справочное изд. / С. А. Айвазян, И. С. Енюков, Л. Д. Мешалкин. — М.: Финансы и статистика, 1983, С. 185-186\n",
    "3. SciPy.org https://docs.scipy.org/doc/numpy-1.15.0/reference/generated/numpy.random.uniform.html\n",
    "3. Закон Ципфа // Википедия URL: https://ru.wikipedia.org/wiki/%D0%97%D0%B0%D0%BA%D0%BE%D0%BD_%D0%A6%D0%B8%D0%BF%D1%84%D0%B0 (дата обращения: 18.10.2019).\n",
    "2. Зорин А. В., Зорин В. А., Федоткин М. А. МОДЕЛИРОВАНИЕ СЛУЧАЙНЫХ ВЕЛИЧИН И ПРОВЕРКА ГИПОТЕЗ О ВИДЕ РАСПРЕДЕЛЕНИЯ: Учебно-методическое пособие. — Нижний Новгород: Нижегородский госуниверситет, 2017"
   ]
  },
  {
   "cell_type": "code",
   "execution_count": null,
   "metadata": {},
   "outputs": [],
   "source": []
  }
 ],
 "metadata": {
  "kernelspec": {
   "display_name": "Python 3",
   "language": "python",
   "name": "python3"
  },
  "language_info": {
   "codemirror_mode": {
    "name": "ipython",
    "version": 3
   },
   "file_extension": ".py",
   "mimetype": "text/x-python",
   "name": "python",
   "nbconvert_exporter": "python",
   "pygments_lexer": "ipython3",
   "version": "3.7.3"
  }
 },
 "nbformat": 4,
 "nbformat_minor": 2
}
