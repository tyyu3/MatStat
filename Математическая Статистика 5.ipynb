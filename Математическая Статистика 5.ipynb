{
 "cells": [
  {
   "cell_type": "markdown",
   "metadata": {},
   "source": [
    "# Домашнее задание 5\n",
    "## Линейная регрессия и метод наименьших квадратов\n",
    "### Щербаков Игорь, СКБ 171\n",
    "---"
   ]
  },
  {
   "cell_type": "markdown",
   "metadata": {},
   "source": [
    "Хотим восстановить функциональную зависимость $y(x)=ax+b$"
   ]
  },
  {
   "cell_type": "markdown",
   "metadata": {},
   "source": [
    "$E(\\hat{a},\\hat{b})=\\sum\\limits_{i=1}^{n}\\left(\\hat{a}x_i+\\hat{b}-y_i\\right)^2$"
   ]
  },
  {
   "cell_type": "markdown",
   "metadata": {},
   "source": [
    "Решим систему уравнений:\n",
    "    \n",
    "$\\begin{cases}\n",
    "\\dfrac{\\partial E(\\hat{a},\\hat{b})}{\\partial \\hat{a}}=0,\\\\\n",
    "\\dfrac{\\partial E(\\hat{a},\\hat{b})}{\\partial \\hat{b}}=0\n",
    "\\end{cases}\\Leftrightarrow\n",
    "\\begin{cases}\n",
    "2\\sum\\limits_{i=1}^{n}\\left[\\left(\\hat{a}x_i+\\hat{b}-y_i\\right)\\cdot x_i\\right]=0,\\\\\n",
    "2\\sum\\limits_{i=1}^{n}\\left(\\hat{a}x_i+\\hat{b}-y_i\\right)=0\n",
    "\\end{cases}\\Leftrightarrow\n",
    "\\begin{cases}\n",
    "\\hat{a}\\sum\\limits_{i=1}^{n}x_i^2+\\hat{b}\\sum\\limits_{i=1}^{n}x_i=\\sum\\limits_{i=1}^{n}x_i y_i,\\\\\n",
    "\\hat{a}\\sum\\limits_{i=1}^{n}x_i+\\hat{b}n=\\sum\\limits_{i=1}^{n}y_i\n",
    "\\end{cases}$"
   ]
  },
  {
   "cell_type": "markdown",
   "metadata": {},
   "source": [
    "$\\begin{cases}\n",
    "\\hat{a}n\\sum\\limits_{i=1}^{n}x_i^2+\\hat{b}n\\sum\\limits_{i=1}^{n}x_i=n\\sum\\limits_{i=1}^{n}x_i y_i,\\\\\n",
    "\\hat{a}\\left(\\sum\\limits_{i=1}^{n}x_i\\right)^2+\\hat{b}n\\sum\\limits_{i=1}^{n}x_i=\\sum\\limits_{i=1}^{n}x_i\\sum\\limits_{i=1}^{n}y_i\n",
    "\\end{cases}\\Leftrightarrow\n",
    "\\begin{cases}\n",
    "\\hat{a}\\sum\\limits_{i=1}^{n}x_i+\\hat{b}n=\\sum\\limits_{i=1}^{n}y_i,\\\\\n",
    "\\hat{a}\\left(n\\sum\\limits_{i=1}^{n}x_i-\\left(\\sum\\limits_{i=1}^{n}x_i\\right)^2\\right)=n\\sum\\limits_{i=1}^{n}x_i y_i - \\sum\\limits_{i=1}^{n}x_i\\sum\\limits_{i=1}^{n}y_i\n",
    "\\end{cases}$"
   ]
  },
  {
   "cell_type": "markdown",
   "metadata": {},
   "source": [
    "$\\hat{a}=\n",
    "\\dfrac{n\\sum\\limits_{i=1}^{n}x_i y_i - \\sum\\limits_{i=1}^{n}x_i \\sum\\limits_{i=1}^{n}y_i}{n\\sum\\limits_{i=1}^{n}x_i^2 - \\left(\\sum\\limits_{i=1}^{n}x_i\\right)^2}$\n",
    "\n",
    "$\\hat{b}=\\dfrac{\\sum\\limits_{i=1}^{n}y_i-\\hat{a}\\sum\\limits_{i=1}^{n}x_i}{n}$"
   ]
  },
  {
   "cell_type": "markdown",
   "metadata": {},
   "source": [
    "Проверим, что найденная точка $\\left(\\hat{a},\\hat{b}\\right)$ действительно является экстремумом функции $E$, а именно, точкой локального минимума. (Дисперсия минимальна)\n",
    "\n",
    "$A=E^{''}_{\\hat{a}\\hat{a}}=2\\sum\\limits_{i=1}^{n}x_i^2$\n",
    "\n",
    "$B=E^{''}_{\\hat{a}\\hat{b}}=2\\sum\\limits_{i=1}^{n}x_i$\n",
    "\n",
    "$C=E^{''}_{\\hat{b}\\hat{b}}=2n$\n",
    "\n",
    "Неравенство Коши-Буняковского:\n",
    "\n",
    "$\\left({\\sum \\limits _{i=1}^{n}{x_{i}}}\\right)^{2}\\leq \\left({\\sum \\limits _{i=1}^{n}{1}}\\right)\\sum \\limits _{i=1}^{n}{{x_{i}}^{2}}=n\\sum \\limits _{i=1}^{n}{{x_{i}}^{2}}$\n",
    "\n",
    "Следовательно:\n",
    "\n",
    "$AC-B^2=4n\\sum\\limits_{i=1}^{n}x_i^2-4\\left(\\sum\\limits_{i=1}^{n}x_i\\right)^2>0$ , значит, $\\left(\\hat{a},\\hat{b}\\right)$ - точка экстремума функции $E$. Кроме того, $C=2n>0$, следовательно, она является точкой локального минимума."
   ]
  },
  {
   "cell_type": "code",
   "execution_count": 11,
   "metadata": {},
   "outputs": [],
   "source": [
    "import numpy as np\n",
    "def coefficients(xs, ys):\n",
    "    xs = np.array(xs)\n",
    "    ys = np.array(ys)\n",
    "    n = len(xs)\n",
    "    a_estimate = (n*np.dot(xs, ys)-sum(xs)*sum(ys))/(n*sum(xs**2)-sum(xs)**2)\n",
    "    b_estimate = (sum(ys)-a_estimate*sum(xs))/n\n",
    "    return a_estimate, b_estimate"
   ]
  },
  {
   "cell_type": "markdown",
   "metadata": {},
   "source": [
    "В качестве данных используем информацию о продажах домов в Кинг Каунти в США за 2014 год [1]. Попробуем установить наличие зависимости между площадью жилого пространства и ценой дома. "
   ]
  },
  {
   "cell_type": "code",
   "execution_count": 61,
   "metadata": {},
   "outputs": [
    {
     "data": {
      "text/html": [
       "<div>\n",
       "<style scoped>\n",
       "    .dataframe tbody tr th:only-of-type {\n",
       "        vertical-align: middle;\n",
       "    }\n",
       "\n",
       "    .dataframe tbody tr th {\n",
       "        vertical-align: top;\n",
       "    }\n",
       "\n",
       "    .dataframe thead th {\n",
       "        text-align: right;\n",
       "    }\n",
       "</style>\n",
       "<table border=\"1\" class=\"dataframe\">\n",
       "  <thead>\n",
       "    <tr style=\"text-align: right;\">\n",
       "      <th></th>\n",
       "      <th>id</th>\n",
       "      <th>date</th>\n",
       "      <th>price</th>\n",
       "      <th>bedrooms</th>\n",
       "      <th>bathrooms</th>\n",
       "      <th>sqft_living</th>\n",
       "      <th>sqft_lot</th>\n",
       "      <th>floors</th>\n",
       "      <th>waterfront</th>\n",
       "      <th>view</th>\n",
       "      <th>...</th>\n",
       "      <th>grade</th>\n",
       "      <th>sqft_above</th>\n",
       "      <th>sqft_basement</th>\n",
       "      <th>yr_built</th>\n",
       "      <th>yr_renovated</th>\n",
       "      <th>zipcode</th>\n",
       "      <th>lat</th>\n",
       "      <th>long</th>\n",
       "      <th>sqft_living15</th>\n",
       "      <th>sqft_lot15</th>\n",
       "    </tr>\n",
       "  </thead>\n",
       "  <tbody>\n",
       "    <tr>\n",
       "      <th>0</th>\n",
       "      <td>7129300520</td>\n",
       "      <td>20141013T000000</td>\n",
       "      <td>221900.0</td>\n",
       "      <td>3</td>\n",
       "      <td>1.00</td>\n",
       "      <td>1180</td>\n",
       "      <td>5650</td>\n",
       "      <td>1.0</td>\n",
       "      <td>0</td>\n",
       "      <td>0</td>\n",
       "      <td>...</td>\n",
       "      <td>7</td>\n",
       "      <td>1180</td>\n",
       "      <td>0</td>\n",
       "      <td>1955</td>\n",
       "      <td>0</td>\n",
       "      <td>98178</td>\n",
       "      <td>47.5112</td>\n",
       "      <td>-122.257</td>\n",
       "      <td>1340</td>\n",
       "      <td>5650</td>\n",
       "    </tr>\n",
       "    <tr>\n",
       "      <th>1</th>\n",
       "      <td>6414100192</td>\n",
       "      <td>20141209T000000</td>\n",
       "      <td>538000.0</td>\n",
       "      <td>3</td>\n",
       "      <td>2.25</td>\n",
       "      <td>2570</td>\n",
       "      <td>7242</td>\n",
       "      <td>2.0</td>\n",
       "      <td>0</td>\n",
       "      <td>0</td>\n",
       "      <td>...</td>\n",
       "      <td>7</td>\n",
       "      <td>2170</td>\n",
       "      <td>400</td>\n",
       "      <td>1951</td>\n",
       "      <td>1991</td>\n",
       "      <td>98125</td>\n",
       "      <td>47.7210</td>\n",
       "      <td>-122.319</td>\n",
       "      <td>1690</td>\n",
       "      <td>7639</td>\n",
       "    </tr>\n",
       "    <tr>\n",
       "      <th>2</th>\n",
       "      <td>5631500400</td>\n",
       "      <td>20150225T000000</td>\n",
       "      <td>180000.0</td>\n",
       "      <td>2</td>\n",
       "      <td>1.00</td>\n",
       "      <td>770</td>\n",
       "      <td>10000</td>\n",
       "      <td>1.0</td>\n",
       "      <td>0</td>\n",
       "      <td>0</td>\n",
       "      <td>...</td>\n",
       "      <td>6</td>\n",
       "      <td>770</td>\n",
       "      <td>0</td>\n",
       "      <td>1933</td>\n",
       "      <td>0</td>\n",
       "      <td>98028</td>\n",
       "      <td>47.7379</td>\n",
       "      <td>-122.233</td>\n",
       "      <td>2720</td>\n",
       "      <td>8062</td>\n",
       "    </tr>\n",
       "    <tr>\n",
       "      <th>3</th>\n",
       "      <td>2487200875</td>\n",
       "      <td>20141209T000000</td>\n",
       "      <td>604000.0</td>\n",
       "      <td>4</td>\n",
       "      <td>3.00</td>\n",
       "      <td>1960</td>\n",
       "      <td>5000</td>\n",
       "      <td>1.0</td>\n",
       "      <td>0</td>\n",
       "      <td>0</td>\n",
       "      <td>...</td>\n",
       "      <td>7</td>\n",
       "      <td>1050</td>\n",
       "      <td>910</td>\n",
       "      <td>1965</td>\n",
       "      <td>0</td>\n",
       "      <td>98136</td>\n",
       "      <td>47.5208</td>\n",
       "      <td>-122.393</td>\n",
       "      <td>1360</td>\n",
       "      <td>5000</td>\n",
       "    </tr>\n",
       "    <tr>\n",
       "      <th>4</th>\n",
       "      <td>1954400510</td>\n",
       "      <td>20150218T000000</td>\n",
       "      <td>510000.0</td>\n",
       "      <td>3</td>\n",
       "      <td>2.00</td>\n",
       "      <td>1680</td>\n",
       "      <td>8080</td>\n",
       "      <td>1.0</td>\n",
       "      <td>0</td>\n",
       "      <td>0</td>\n",
       "      <td>...</td>\n",
       "      <td>8</td>\n",
       "      <td>1680</td>\n",
       "      <td>0</td>\n",
       "      <td>1987</td>\n",
       "      <td>0</td>\n",
       "      <td>98074</td>\n",
       "      <td>47.6168</td>\n",
       "      <td>-122.045</td>\n",
       "      <td>1800</td>\n",
       "      <td>7503</td>\n",
       "    </tr>\n",
       "  </tbody>\n",
       "</table>\n",
       "<p>5 rows × 21 columns</p>\n",
       "</div>"
      ],
      "text/plain": [
       "           id             date     price  bedrooms  bathrooms  sqft_living  \\\n",
       "0  7129300520  20141013T000000  221900.0         3       1.00         1180   \n",
       "1  6414100192  20141209T000000  538000.0         3       2.25         2570   \n",
       "2  5631500400  20150225T000000  180000.0         2       1.00          770   \n",
       "3  2487200875  20141209T000000  604000.0         4       3.00         1960   \n",
       "4  1954400510  20150218T000000  510000.0         3       2.00         1680   \n",
       "\n",
       "   sqft_lot  floors  waterfront  view  ...  grade  sqft_above  sqft_basement  \\\n",
       "0      5650     1.0           0     0  ...      7        1180              0   \n",
       "1      7242     2.0           0     0  ...      7        2170            400   \n",
       "2     10000     1.0           0     0  ...      6         770              0   \n",
       "3      5000     1.0           0     0  ...      7        1050            910   \n",
       "4      8080     1.0           0     0  ...      8        1680              0   \n",
       "\n",
       "   yr_built  yr_renovated  zipcode      lat     long  sqft_living15  \\\n",
       "0      1955             0    98178  47.5112 -122.257           1340   \n",
       "1      1951          1991    98125  47.7210 -122.319           1690   \n",
       "2      1933             0    98028  47.7379 -122.233           2720   \n",
       "3      1965             0    98136  47.5208 -122.393           1360   \n",
       "4      1987             0    98074  47.6168 -122.045           1800   \n",
       "\n",
       "   sqft_lot15  \n",
       "0        5650  \n",
       "1        7639  \n",
       "2        8062  \n",
       "3        5000  \n",
       "4        7503  \n",
       "\n",
       "[5 rows x 21 columns]"
      ]
     },
     "execution_count": 61,
     "metadata": {},
     "output_type": "execute_result"
    }
   ],
   "source": [
    "import pandas as pd\n",
    "from scipy.optimize import curve_fit\n",
    "db=pd.read_csv(\"kc_house_data.csv\")\n",
    "data1 = db['sqft_living'].values\n",
    "data2 = db['price'].values\n",
    "db.head()\n"
   ]
  },
  {
   "cell_type": "markdown",
   "metadata": {},
   "source": [
    "Вычислим коэффициент корреляции Пирсона по формуле:\n",
    "\n",
    "$r_{xy}=\\dfrac{\\sum\\limits_{i=1}^{n}\\left(x_i-\\overline{x}\\right)\\left(y_i-\\overline{y}\\right)}\n",
    "{\\sqrt{\\sum\\limits_{i=1}^{n}\\left(x_i-\\overline{x}\\right)^2 \\sum\\limits_{i=1}^{n}\\left(y_i-\\overline{y}\\right)^2}}$,\n",
    "\n",
    "где $x^n=\\left(x_1,\\ldots,x_n\\right)$, $y^n=\\left(y_1,\\ldots,y_n\\right)$ - выборки"
   ]
  },
  {
   "cell_type": "code",
   "execution_count": 54,
   "metadata": {},
   "outputs": [],
   "source": [
    "def r_coef(xs, ys):\n",
    "    xm = np.mean(xs)\n",
    "    ym = np.mean(ys)\n",
    "    r = (np.dot(xs-xm, ys-ym))/np.sqrt(sum((xs-xm)**2)*sum((ys-ym)**2))\n",
    "    return r"
   ]
  },
  {
   "cell_type": "code",
   "execution_count": 55,
   "metadata": {},
   "outputs": [
    {
     "data": {
      "text/plain": [
       "0.7020350546118003"
      ]
     },
     "execution_count": 55,
     "metadata": {},
     "output_type": "execute_result"
    }
   ],
   "source": [
    "r = r_coef(data1, data2)\n",
    "r"
   ]
  },
  {
   "cell_type": "markdown",
   "metadata": {},
   "source": [
    "Cуществует прямая зависимость между объемом жилой площади дома и его ценой"
   ]
  },
  {
   "cell_type": "code",
   "execution_count": 62,
   "metadata": {},
   "outputs": [
    {
     "name": "stdout",
     "output_type": "stream",
     "text": [
      "Estimate for a = 280.6235678974483\n",
      "Estimate for b = -43580.74309447424\n"
     ]
    }
   ],
   "source": [
    "a, b = coefficients(data1, data2)\n",
    "print(\"Estimate for a = \" +str(a))\n",
    "print(\"Estimate for b = \" +str(b))"
   ]
  },
  {
   "cell_type": "code",
   "execution_count": 63,
   "metadata": {},
   "outputs": [
    {
     "data": {
      "text/plain": [
       "[<matplotlib.lines.Line2D at 0x1f7889e8f28>]"
      ]
     },
     "execution_count": 63,
     "metadata": {},
     "output_type": "execute_result"
    },
    {
     "data": {
      "image/png": "[encoded data removed]",
      "text/plain": [
       "<Figure size 576x576 with 1 Axes>"
      ]
     },
     "metadata": {
      "needs_background": "light"
     },
     "output_type": "display_data"
    }
   ],
   "source": [
    "from matplotlib import pyplot as plt\n",
    "plt.figure(figsize =(8,8))\n",
    "plt.scatter(x= data1, y=data2, color = \"black\")\n",
    "plt.plot(data1, a * data1 + b, color=\"red\")"
   ]
  },
  {
   "cell_type": "markdown",
   "metadata": {},
   "source": [
    "## Источники\n",
    "1. House Sales in King County, USA\n",
    "https://www.kaggle.com/harlfoxem/housesalesprediction"
   ]
  }
 ],
 "metadata": {
  "kernelspec": {
   "display_name": "Python 3",
   "language": "python",
   "name": "python3"
  },
  "language_info": {
   "codemirror_mode": {
    "name": "ipython",
    "version": 3
   },
   "file_extension": ".py",
   "mimetype": "text/x-python",
   "name": "python",
   "nbconvert_exporter": "python",
   "pygments_lexer": "ipython3",
   "version": "3.7.3"
  }
 },
 "nbformat": 4,
 "nbformat_minor": 2
}
