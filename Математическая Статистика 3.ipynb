{
 "cells": [
  {
   "cell_type": "markdown",
   "metadata": {},
   "source": [
    "# Домашнее задание 3\n",
    "## Оценки\n",
    "### Щербаков Игорь, СКБ 171\n",
    "---"
   ]
  },
  {
   "cell_type": "code",
   "execution_count": 25,
   "metadata": {},
   "outputs": [],
   "source": [
    "import random\n",
    "import numpy as np\n",
    "import matplotlib.pyplot as plt\n",
    "import itertools"
   ]
  },
  {
   "cell_type": "markdown",
   "metadata": {},
   "source": [
    "a) Геометрическое Распределение. Возьмем $p=0.5$"
   ]
  },
  {
   "cell_type": "code",
   "execution_count": 26,
   "metadata": {},
   "outputs": [],
   "source": [
    "def geom_pmf(x, p):\n",
    "    return p*(1-p)**x\n",
    "\n",
    "def generate_geom_sample(p = 0.5, sample_size = 100):\n",
    "    res = []\n",
    "    for i in range(sample_size):\n",
    "        number=0;\n",
    "        length=0;\n",
    "        x=random.uniform(0,1) # [2]\n",
    "        while(x>=length+geom_pmf(number, p)):\n",
    "            length+=geom_pmf(number, p)\n",
    "            number+=1\n",
    "        res+=[number]\n",
    "    return res"
   ]
  },
  {
   "cell_type": "code",
   "execution_count": 27,
   "metadata": {},
   "outputs": [],
   "source": [
    "p=0.5\n",
    "geom5=[]\n",
    "geom10=[]\n",
    "geom100=[]\n",
    "geom1000=[]\n",
    "geom100000=[]\n",
    "for i in range(5):\n",
    "    geom5+=[generate_geom_sample(p,5)]\n",
    "for i in range(5):\n",
    "    geom10+=[generate_geom_sample(p,10)]\n",
    "for i in range(5):\n",
    "    geom100+=[generate_geom_sample(p,100)]\n",
    "for i in range(5):\n",
    "    geom1000+=[generate_geom_sample(p,1000)]\n",
    "for i in range(5):\n",
    "    geom100000+=[generate_geom_sample(p,10000)]"
   ]
  },
  {
   "cell_type": "markdown",
   "metadata": {},
   "source": [
    "б) Распределение Парето. Возьмем $\\alpha=2$, $c_0=1$"
   ]
  },
  {
   "cell_type": "code",
   "execution_count": 28,
   "metadata": {},
   "outputs": [],
   "source": [
    "def inverse_pareto_cdf(y, alpha, c0):\n",
    "    if (1-y)**(1/alpha)==0:\n",
    "        return 2.2250738585072014e-308\n",
    "    return c0/((1-y))**(1/alpha)\n",
    "def generate_pareto_sample(alpha, c0 = 1, sample_size = 10):\n",
    "        result=[]\n",
    "        for i in range(0,sample_size):\n",
    "            x=random.uniform(0,1)\n",
    "            #print(str(x))\n",
    "            result+=[inverse_pareto_cdf(x, alpha, c0)]\n",
    "        return result"
   ]
  },
  {
   "cell_type": "code",
   "execution_count": 29,
   "metadata": {},
   "outputs": [],
   "source": [
    "alpha=2\n",
    "c0=1\n",
    "pareto5=[]\n",
    "pareto10=[]\n",
    "pareto100=[]\n",
    "pareto1000=[]\n",
    "pareto100000=[]\n",
    "for i in range(5):\n",
    "    pareto5+=[generate_pareto_sample(alpha, c0, 5)]\n",
    "for i in range(5):\n",
    "    pareto10+=[generate_pareto_sample(alpha, c0, 10)]\n",
    "for i in range(5):\n",
    "    pareto100+=[generate_pareto_sample(alpha, c0, 100)]\n",
    "for i in range(5):\n",
    "    pareto1000+=[generate_pareto_sample(alpha, c0, 1000)]\n",
    "for i in range(5):\n",
    "    pareto100000+=[generate_pareto_sample(alpha, c0, 100000)]"
   ]
  },
  {
   "cell_type": "markdown",
   "metadata": {},
   "source": [
    "## 3.1 Построение выборочного среднего и выборочной дисперсии"
   ]
  },
  {
   "cell_type": "markdown",
   "metadata": {},
   "source": [
    "Пусть дана реализация выборки $x = (x_1, \\dots , x_m)$\n",
    "\n",
    "Тогда, выборочное среднее: $\\hat{\\alpha_1}=\\bar{x}=\\dfrac{1}{m}\\sum\\limits_{i=1}^{m}x_i$\n",
    "\n",
    "Выборочная дисперсия: $\\hat{\\mu_2}=\\dfrac{1}{m}\\sum\\limits_{i=1}^{m}(x_i-\\bar{x})^2$"
   ]
  },
  {
   "cell_type": "markdown",
   "metadata": {},
   "source": [
    "Проверим эти оценки на состоятельность и несмещенность.\n",
    "Статистика $T_n = T_n(X)$ называется состоятельной оценкой для неизвестного параметра $\\tau(\\theta)$ случайной величины $\\xi$, если при $n \\rightarrow \\infty$: \n",
    "$T_n(X) \\rightarrow \\tau(\\theta)$ по вероятности\n",
    "\n",
    "Статистика $T = T(x)$ называется несмещенной в среднем (или просто несмещенная) оценкой для заданной параметрической функции $\\tau (\\theta)$, если она удовлетворяет условию\n",
    "$M_\\theta T(x) = \\tau (\\theta)$, $\\forall\\theta \\in \\Theta$,\n",
    "которое называется уравнением несмещенности"
   ]
  },
  {
   "cell_type": "code",
   "execution_count": 30,
   "metadata": {},
   "outputs": [],
   "source": [
    "def sample_variance(sample):\n",
    "    result=0\n",
    "    mean =np.mean(sample)\n",
    "    for i in sample:\n",
    "        result+=(i-mean)**2\n",
    "    return result/len(sample)"
   ]
  },
  {
   "cell_type": "markdown",
   "metadata": {},
   "source": [
    "a) Геометрическое Распределение"
   ]
  },
  {
   "cell_type": "code",
   "execution_count": 31,
   "metadata": {},
   "outputs": [
    {
     "name": "stdout",
     "output_type": "stream",
     "text": [
      "[1.4, 1.4, 0.8, 0.8, 2.2]\n",
      "[0.9, 0.9, 0.4, 1.0, 1.2]\n",
      "[0.88, 0.92, 0.88, 0.98, 1.16]\n",
      "[1.05, 0.966, 1.017, 0.991, 1.006]\n",
      "[1.0279, 1.0034, 0.9908, 0.9803, 0.9908]\n"
     ]
    }
   ],
   "source": [
    "geom5means=list(map(np.mean,geom5))\n",
    "print(geom5means)\n",
    "geom10means=list(map(np.mean,geom10))\n",
    "print(geom10means)\n",
    "geom100means=list(map(np.mean,geom100))\n",
    "print(geom100means)\n",
    "geom1000means=list(map(np.mean,geom1000))\n",
    "print(geom1000means)\n",
    "geom100000means=list(map(np.mean,geom100000))\n",
    "print(geom100000means)"
   ]
  },
  {
   "cell_type": "code",
   "execution_count": 32,
   "metadata": {},
   "outputs": [
    {
     "name": "stdout",
     "output_type": "stream",
     "text": [
      "[3.04, 1.0400000000000003, 1.36, 0.9600000000000002, 5.359999999999999]\n",
      "[0.69, 0.6899999999999998, 0.24000000000000005, 1.6, 1.9600000000000002]\n",
      "[1.3455999999999992, 1.4936, 1.4256, 2.3195999999999994, 2.2543999999999986]\n",
      "[2.123499999999995, 1.8568440000000281, 2.060710999999986, 1.9589190000000183, 2.0079640000000074]\n",
      "[2.169121590000022, 1.9471884400001516, 1.959115360000085, 1.8595119100000717, 2.0301153600000803]\n"
     ]
    }
   ],
   "source": [
    "geom5sv=list(map(sample_variance,geom5))\n",
    "print(geom5sv)\n",
    "geom10sv=list(map(sample_variance,geom10))\n",
    "print(geom10sv)\n",
    "geom100sv=list(map(sample_variance,geom100))\n",
    "print(geom100sv)\n",
    "geom1000sv=list(map(sample_variance,geom1000))\n",
    "print(geom1000sv)\n",
    "geom100000sv=list(map(sample_variance,geom100000))\n",
    "print(geom100000sv)"
   ]
  },
  {
   "cell_type": "markdown",
   "metadata": {},
   "source": [
    "Для Геометрического распределения: \n",
    "$E\\xi=\\dfrac{1-p}{p}$,\n",
    "$D\\xi=\\dfrac{1-p}{p^2}$\n",
    "\n",
    "С нашими параметрами:\n",
    "\n",
    "$E\\xi=1$ — наша оценка состоятельная\n",
    "\n",
    "$D\\xi=2$ — наша оценка состоятельная\n",
    "    \n",
    "$E\\left(\\bar{x}\\right)=E(\\dfrac{1}{n}\\sum\\limits_{i=1}^{n}x_i)=\\dfrac{1}{n}\\sum\\limits_{i=1}^{n}Ex_i=\\dfrac{n}{n}\\dfrac{1-p}{p}=\\dfrac{1-p}{p}$ — оценка несмещенная"
   ]
  },
  {
   "cell_type": "markdown",
   "metadata": {},
   "source": [
    "$\\hat{\\mu_2}=\\dfrac{1}{n}\\sum\\limits_{i=1}^n\\left(x_i-\\bar{x}\\right)^2=\n",
    "\\dfrac{1}{n}\\sum\\limits_{i=1}^n\\left((x_i-\\mu)-(\\bar{x}-\\mu)\\right)^2=\n",
    "\\dfrac{1}{n}\\sum\\limits_{i=1}^n\\left(x_i-\\mu\\right)^2-2(\\bar{x}-\\mu)\\sum\\limits_{i=1}^n(x_i-\\mu)+\\sum\\limits_{i=1}^n\\left(\\bar{x}-\\mu\\right)^2=\n",
    "\\dfrac{1}{n}\\sum\\limits_{i=1}^n\\left(x_i-\\mu\\right)^2 - 2(\\bar{x}-\\mu)^2+\\dfrac{1}{n}n\\left(\\bar{x}-\\mu\\right)^2=\n",
    "\\dfrac{1}{n}\\sum\\limits_{i=1}^n(x_i-\\mu)^2-(\\bar{x}-\\mu)^2$,\n",
    "\n",
    "$\\mu=E\\xi$\n",
    "\n",
    "\n",
    "$E\\hat{\\mu_2}=\n",
    "\\dfrac{1}{n}E\\sum\\limits_{i=1}^n(x_i-\\mu)^2-E(\\bar{x}-\\mu)^2=\n",
    "\\dfrac{1}{n}\\sum\\limits_{i=1}^nE(x_i-\\mu)^2-E(\\bar{x}-\\mu)^2=\n",
    "\\dfrac{1}{n}\\sum\\limits_{i=1}^nDx_i-D\\bar{x}=\\dfrac{1}{n}n \\dfrac{1-p}{p^2} - \\dfrac{1}{n}\\dfrac{1-p}{p^2}=\\dfrac{n-1}{n} \\dfrac{1-p}{p^2}$ — оценка смещенная"
   ]
  },
  {
   "cell_type": "markdown",
   "metadata": {},
   "source": [
    "б) Распределение Парето"
   ]
  },
  {
   "cell_type": "code",
   "execution_count": 33,
   "metadata": {},
   "outputs": [
    {
     "name": "stdout",
     "output_type": "stream",
     "text": [
      "[1.8263054872828737, 1.4713423660869587, 1.8649329346505137, 2.5066531705868793, 1.447825152013936]\n",
      "[1.568938329966333, 2.6742938230333575, 1.4312193821432486, 1.888831268328476, 1.4545625711334071]\n",
      "[1.9046184368407513, 2.3967737000546223, 1.8655734881888888, 1.7223108762609214, 1.8295911019660307]\n",
      "[2.070650053751656, 1.9229321917381212, 1.9695427685207563, 1.9580966385279264, 2.1316113481216457]\n",
      "[1.9928748007308927, 2.009238592209318, 1.9898604897378882, 1.995901062350854, 2.009192153296122]\n"
     ]
    }
   ],
   "source": [
    "pareto5means=list(map(np.mean,pareto5))\n",
    "print(pareto5means)\n",
    "pareto10means=list(map(np.mean,pareto10))\n",
    "print(pareto10means)\n",
    "pareto100means=list(map(np.mean,pareto100))\n",
    "print(pareto100means)\n",
    "pareto1000means=list(map(np.mean,pareto1000))\n",
    "print(pareto1000means)\n",
    "pareto100000means=list(map(np.mean,pareto100000))\n",
    "print(pareto100000means)"
   ]
  },
  {
   "cell_type": "code",
   "execution_count": 34,
   "metadata": {},
   "outputs": [
    {
     "name": "stdout",
     "output_type": "stream",
     "text": [
      "[1.0726098028407853, 0.5373936758021198, 0.4377287892086049, 0.8007480627861876, 0.12753905454773976]\n",
      "[0.35549668333159357, 10.862430263702977, 0.24199165131195466, 1.0626898533323437, 0.20513226012747826]\n",
      "[1.32695991022901, 18.559414739198004, 2.8648883622003223, 1.3482451033537515, 2.2974662851288663]\n",
      "[18.23477636680334, 2.33310818553857, 3.260148807785909, 4.846396695342119, 42.91898471814436]\n",
      "[8.44869601969371, 16.026990813737374, 10.009116409909108, 8.832365377276101, 14.781149629950566]\n"
     ]
    }
   ],
   "source": [
    "pareto5sv=list(map(sample_variance,pareto5))\n",
    "print(pareto5sv)\n",
    "pareto10sv=list(map(sample_variance,pareto10))\n",
    "print(pareto10sv)\n",
    "pareto100sv=list(map(sample_variance,pareto100))\n",
    "print(pareto100sv)\n",
    "pareto1000sv=list(map(sample_variance,pareto1000))\n",
    "print(pareto1000sv)\n",
    "pareto100000sv=list(map(sample_variance,pareto100000))\n",
    "print(pareto100000sv)"
   ]
  },
  {
   "cell_type": "markdown",
   "metadata": {},
   "source": [
    "Для Распределения Парето: \n",
    "$E\\xi=\\dfrac{\\alpha c_0}{\\alpha-1}$,\n",
    "$D\\xi=\\dfrac{\\alpha c_0^2}{\\alpha-2}$\n",
    "\n",
    "С нашими параметрами:\n",
    "\n",
    "$E\\xi=2$ — наша оценка состоятельная\n",
    "\n",
    "$D\\xi$ не существует для $\\alpha \\leq2$ — наши выборки это отражают\n",
    "    \n",
    "$E\\left(\\bar{x}\\right)=E(\\dfrac{1}{n}\\sum\\limits_{i=1}^{n}x_i)=\\dfrac{1}{n}\\sum\\limits_{i=1}^{n}Ex_i=\\dfrac{n}{n}\\dfrac{\\alpha c_0}{\\alpha-1}=\\dfrac{\\alpha c_0}{\\alpha-1}$ — оценка несмещенная"
   ]
  },
  {
   "cell_type": "markdown",
   "metadata": {},
   "source": [
    "$E\\hat{\\mu_2}=\n",
    "\\dfrac{1}{n}E\\sum\\limits_{i=1}^n(x_i-\\mu)^2-E(\\bar{x}-\\mu)^2=\\dfrac{1}{n}n \\dfrac{\\alpha c_0^2}{\\alpha-2} - \\dfrac{1}{n}\\dfrac{\\alpha c_0^2}{\\alpha-2}=\\dfrac{n-1}{n} \\dfrac{\\alpha c_0^2}{\\alpha-2}$ — оценка смещенная"
   ]
  },
  {
   "cell_type": "markdown",
   "metadata": {},
   "source": [
    "## 3.2 Нахождение параметров распределений событий\n"
   ]
  },
  {
   "cell_type": "markdown",
   "metadata": {},
   "source": [
    "а) Геометрическое Распределение"
   ]
  },
  {
   "cell_type": "markdown",
   "metadata": {},
   "source": [
    "Найдем эффективную оценку с помощью критерия эффективности.\n",
    "\n",
    "Функция правдоподобия: \n",
    "$L(\\vec{x}, p)=\\prod\\limits_{i=1}^n f(x_i,p)=\\prod\\limits_{i=1}^n p(1-p)^{x_i}$\n",
    "\n",
    "$\\ln L=\\sum\\limits_{i=1}^{n}\\ln p(1-p)^{x_i}=n\\ln p + \\ln (1-p) \\sum\\limits_{i=1}^n x_i $\n",
    "\n",
    "$L(x,\\theta) = e^{n\\ln p}e^{\\ln (1-p) \\sum\\limits_{i=1}^n x_i} \\implies T_1(x)=\\sum\\limits_{i=1}^n x_i$ -- достаточная статистика\n",
    "\n",
    "Вклад выборки:\n",
    "$V(\\vec{x}, p)=\\dfrac{n}{p} - \\dfrac{1}{1-p}\\sum\\limits_{i=1}^n x_i $\n",
    "\n",
    "Приведем к виду $a(\\theta)V(\\vec{x}, \\theta)=T(x)-\\tau(\\theta)$: \n",
    "\n",
    "$\\dfrac{1-p}{n}V(\\vec{x}, p) = \\dfrac{1}{p}-1 - \\dfrac{1}{n}\\sum\\limits_{i=1}^n x_i$\n",
    "\n",
    "Следовательно, $\\bar{x}+1$ — эффективная оценка $\\dfrac{1}{p}$. \n",
    "\n",
    "Тогда:\n",
    "\n",
    "$\\hat{p} = \\dfrac{1}{\\bar{x}+1}$\n",
    "\n",
    "Найдем ее матожидание\n",
    "\n",
    "\n",
    "$ET(x)=E\\left(\\dfrac{1}{\\bar{x}+1}\\right)=\\dfrac{n}{\\sum\\limits_{i=1}^n x_i + n}$\n",
    "\n",
    "$\\xi_1 = n\\sum\\limits_{i=1}^n x_i \\sim \\bar{Bi}(p, n)$ \n",
    "\n",
    "$ET(x) = E(\\dfrac{n}{\\xi_1 + n})=E(\\dfrac{n}{\\xi_1 + n})=\\sum\\limits_{i=0}^\\infty \\dfrac{n}{i+n} \\binom{i+n-1}{n-1} p^n(1-p)^i = p^n * \\sum\\limits_{i=0}^\\infty(...) \\neq p$ - оценка смещенная\n",
    "\n",
    "Однако заметим:\n",
    "\n",
    "$\\sum\\limits_{i=0}^\\infty \\dfrac{n-1}{i+n-1} \\binom{i+n}{n} p^n(1-p)^i = p = E(\\dfrac{n-1}{\\xi_1 + n-1}) = E(\\dfrac{1}{\\frac{n}{n-1}\\bar{x} + 1})\\implies \\hat{p_0} = \\dfrac{1}{\\frac{n}{n-1}\\bar{x}+1} $ -- несмещенная оценка\n",
    "\n",
    "\n",
    "\n",
    "$\\hat{p_0} = \\dfrac{1}{\\frac{n}{n-1}\\bar{x}+1} $ -- эффективная и несмещенная оценка.\n",
    "\n",
    "По Т. Рао-Блекуэлла-Колмогорова:\n",
    "\n",
    "$H(T(x)) = \\dfrac{1}{\\frac{n}{n-1}\\bar{x}+1} $, где $T(x)$ - полная и достаточная статистика. Тогда несмещенная оценка $H(T(x))$ -- оптимальная оценка параметра\n"
   ]
  },
  {
   "cell_type": "code",
   "execution_count": 69,
   "metadata": {},
   "outputs": [
    {
     "data": {
      "text/plain": [
       "0.36363636363636365"
      ]
     },
     "execution_count": 69,
     "metadata": {},
     "output_type": "execute_result"
    }
   ],
   "source": [
    "1/((len(geom5[0]))/(len(geom5[0])-1)*np.mean(np.array(geom5[0]))+1)"
   ]
  },
  {
   "cell_type": "code",
   "execution_count": 73,
   "metadata": {},
   "outputs": [
    {
     "data": {
      "text/plain": [
       "0.5"
      ]
     },
     "execution_count": 73,
     "metadata": {},
     "output_type": "execute_result"
    }
   ],
   "source": [
    "1/((len(geom10[0]))/(len(geom10[0])-1)*np.mean(np.array(geom10[0]))+1)"
   ]
  },
  {
   "cell_type": "code",
   "execution_count": 74,
   "metadata": {},
   "outputs": [
    {
     "data": {
      "text/plain": [
       "0.5294117647058824"
      ]
     },
     "execution_count": 74,
     "metadata": {},
     "output_type": "execute_result"
    }
   ],
   "source": [
    "1/((len(geom100[0]))/(len(geom100[0])-1)*np.mean(np.array(geom100[0]))+1)"
   ]
  },
  {
   "cell_type": "code",
   "execution_count": 75,
   "metadata": {},
   "outputs": [
    {
     "data": {
      "text/plain": [
       "0.48755490483162517"
      ]
     },
     "execution_count": 75,
     "metadata": {},
     "output_type": "execute_result"
    }
   ],
   "source": [
    "1/((len(geom1000[0]))/(len(geom1000[0])-1)*np.mean(np.array(geom1000[0]))+1)"
   ]
  },
  {
   "cell_type": "code",
   "execution_count": 76,
   "metadata": {},
   "outputs": [
    {
     "data": {
      "text/plain": [
       "0.4930959660716047"
      ]
     },
     "execution_count": 76,
     "metadata": {},
     "output_type": "execute_result"
    }
   ],
   "source": [
    "1/((len(geom100000[0]))/(len(geom100000[0])-1)*np.mean(np.array(geom100000[0]))+1)"
   ]
  },
  {
   "cell_type": "markdown",
   "metadata": {},
   "source": [
    "Истинное значение параметра равно 0.5. Оценка работает"
   ]
  },
  {
   "cell_type": "markdown",
   "metadata": {},
   "source": [
    "б) Распределение Парето"
   ]
  },
  {
   "cell_type": "markdown",
   "metadata": {},
   "source": [
    "Найдем эффективную оценку с помощью критерия эффективности.\n",
    "\n",
    "Функция правдоподобия: \n",
    "$L(\\vec{x}, \\theta)=\\prod\\limits_{i=1}^n f(x_i,\\theta)=\\prod\\limits_{i=1}^n \\theta x_i^{-(\\theta+1)}$\n",
    "\n",
    "$\\ln L = \\sum\\limits_{i=1}^{n}\\ln (\\theta x_i^{-(\\theta+1)})$\n",
    "\n",
    "$\\ln L = \\sum\\limits_{i=1}^{n}\\ln\\theta +  \\sum\\limits_{i=1}^{n}(-(\\theta+1)\\ln x_i)=n\\ln\\theta - (\\theta+1)\\sum\\limits_{i=1}^{n} \\ln x_i$\n",
    "\n",
    "Вклад выборки:\n",
    "$V(\\vec{x}, p)=\\dfrac{n}{\\theta} -\\sum\\limits_{i=1}^n \\ln x_i $\n",
    "\n",
    "Приведем к виду $a(\\theta)V(\\overrightarrow{x}, \\theta)=T(x)-\\tau(\\theta)$:\n",
    "\n",
    "$\\dfrac{1}{n}V(\\vec{x}, p) = \\dfrac{1}{\\theta} - \\dfrac{1}{n}\\sum\\limits_{i=1}^n \\ln x_i$\n",
    "\n",
    "Следовательно, $\\dfrac{1}{n}\\sum\\limits_{i=1}^n \\ln x_i$ — эффективная оценка $\\dfrac{1}{\\theta}$.\n",
    "Тогда $\\hat{\\theta}=\\dfrac{n}{\\sum\\limits_{i=1}^n \\ln x_i}$\n",
    "\n",
    "Найдем ее матожидание:\n",
    "\n",
    "Пусть $\\xi_1=\\ln x_i$, тогда $F_{\\xi_1}(t)=P(\\ln x_i < t)=P(x_i < e^{t})=F_{x_i}(e^z)=1-e^{-t\\theta} \\implies \\xi_1 \\sim Exp(\\theta)$\n",
    "\n",
    "Пусть $\\xi_2=\\sum\\limits_{i=1}^n\\ln x_i$, тогда $\\xi_2 \\sim \\Gamma(n,{\\theta})$, как сумма экспоненциальных $\\implies f_{\\xi_2}(x)=n\\dfrac{x^{n-1}e^{-x\\theta}\\theta^{n}}{\\Gamma(n)}$\n",
    "\n",
    "$x_i \\in (1, \\infty) \\implies \\xi_2 \\in (0,\\infty)$\n",
    "\n",
    "$ET(x) = \\int\\limits_{0}^{\\infty}\\dfrac{1}{x}\\dfrac{x^{n-1}e^{-x\\theta}\\theta^{n}}{\\Gamma(n)}dx = \\dfrac{1}{\\Gamma(n)}\\int\\limits_{0}^{\\infty} x^{n-2} e^{-x\\theta}\\theta^{n}dx=n\\dfrac{\\theta\\Gamma(n-1)}{\\Gamma(n)}=\\dfrac{n \\theta}{n-1}$ \n",
    "\n",
    "Таким образом, коэффициент смещения есть $\\dfrac{n}{n-1}$  \n",
    "\n",
    "Т.е.\n",
    "\n",
    "$\\hat{\\theta_0}=\\dfrac{n-1}{n}\\dfrac{n}{\\sum\\limits_{i=1}^n \\ln x_i}=\\dfrac{n-1}{\\sum\\limits_{i=1}^n \\ln x_i}$ -- несмещенная оценка для $\\theta$\n",
    "\n",
    "$E\\hat{\\theta_0}=\\theta$\n",
    "\n",
    "Проверим на состоятельность $\\hat{\\theta_0}$:\n",
    "\n",
    "$D\\hat{\\theta_0}=E\\hat{\\theta_0^2}-(E\\hat{\\theta_0})^2$\n",
    "\n",
    "$E\\hat{\\theta_0^2}=E\\;\\left(\\dfrac{n-1}{\\sum\\limits_{i=1}^n \\ln x_i}\\right)^2=(n-1)^2 E\\; \\dfrac{1}{\\left(\\sum\\limits_{i=1}^n \\ln x_i\\right)^2} = (n-1)^2\\int\\limits_{0}^{\\infty}\\dfrac{1}{x^2}\\dfrac{x^{n-1}e^{-x\\theta}\\theta^{n}}{\\Gamma(n)}dx=\\dfrac{(n-1)\\theta^2}{n-2}$\n",
    "\n",
    "$D\\hat{\\theta_0} = \\dfrac{(n-1)\\theta^2}{n-2}-\\theta^2 = \\dfrac{n\\theta^2 - \\theta^2 - n\\theta^2+2\\theta^2}{n-2}=\\dfrac{\\theta^2}{n-2}$\n",
    "\n",
    "$D\\hat{\\theta_0} \\rightarrow 0$, при $n \\rightarrow \\infty$ -- оценка состоятельна \n",
    "\n",
    "Найдем оптимальную оценку:\n",
    "\n",
    "Функция плотности вероятности непрерывна -- наша модель регулярна\n",
    "\n",
    "Покажем, что наша модель экспоненциальна:\n",
    "\n",
    "$\\ln f(x, \\theta) = \\ln \\theta - (\\theta + 1) \\ln x = \\ln(\\theta) - \\theta\\ln x - \\ln x = C(\\theta) + A(\\theta)B(x) + D(x)$ --наша модель экспоненциальна\n",
    "\n",
    "В регулярной и экспоненциальной модели достаточная статистика является полной и достаточной статистикой. Для поиска достаточной статистики воспользуемся критерием факторизации:\n",
    "$L(x,\\theta)= \\prod\\limits_{i=1}^n \\theta x_i^{-(\\theta+1)}=\\theta e^{-(\\theta+1)\\sum\\limits_{i=1}^n \\ln x_i}\\cdot I(x > 1) = g(T(x), \\theta)\\cdot h(x)$\n",
    "\n",
    "$T(x)=\\sum\\limits_{i=1}^n \\ln x_i$ -- достаточная статистика\n",
    "\n",
    "По Т. Рао-Блекуэлла-Колмогорова:\n",
    "\n",
    "$H(T(x)) = \\dfrac{n-1}{\\sum\\limits_{i=1}^n \\ln x_i}$, где $T(x)$ - полная и достаточная статистика. Тогда несмещенная оценка $H(T(x))$ -- оптимальная оценка параметра"
   ]
  },
  {
   "cell_type": "code",
   "execution_count": 41,
   "metadata": {},
   "outputs": [
    {
     "data": {
      "text/plain": [
       "1.6628700128896698"
      ]
     },
     "execution_count": 41,
     "metadata": {},
     "output_type": "execute_result"
    }
   ],
   "source": [
    "(len(pareto5[0])-1)/sum(np.log(np.array(pareto5[0])))"
   ]
  },
  {
   "cell_type": "code",
   "execution_count": 40,
   "metadata": {},
   "outputs": [
    {
     "data": {
      "text/plain": [
       "2.250322199639218"
      ]
     },
     "execution_count": 40,
     "metadata": {},
     "output_type": "execute_result"
    }
   ],
   "source": [
    "(len(pareto10[0])-1)/sum(np.log(np.array(pareto10[0])))"
   ]
  },
  {
   "cell_type": "code",
   "execution_count": 42,
   "metadata": {},
   "outputs": [
    {
     "data": {
      "text/plain": [
       "1.8836032392247586"
      ]
     },
     "execution_count": 42,
     "metadata": {},
     "output_type": "execute_result"
    }
   ],
   "source": [
    "(len(pareto100[0])-1)/sum(np.log(np.array(pareto100[0])))"
   ]
  },
  {
   "cell_type": "code",
   "execution_count": 43,
   "metadata": {},
   "outputs": [
    {
     "data": {
      "text/plain": [
       "2.0181724144371955"
      ]
     },
     "execution_count": 43,
     "metadata": {},
     "output_type": "execute_result"
    }
   ],
   "source": [
    "(len(pareto1000[0])-1)/sum(np.log(np.array(pareto1000[0])))"
   ]
  },
  {
   "cell_type": "code",
   "execution_count": 44,
   "metadata": {},
   "outputs": [
    {
     "data": {
      "text/plain": [
       "1.9999877670565958"
      ]
     },
     "execution_count": 44,
     "metadata": {},
     "output_type": "execute_result"
    }
   ],
   "source": [
    "(len(pareto100000[0])-1)/sum(np.log(np.array(pareto100000[0])))"
   ]
  },
  {
   "cell_type": "markdown",
   "metadata": {},
   "source": [
    "Истинное значение параметра равно 2. Оценка работает\n"
   ]
  },
  {
   "cell_type": "markdown",
   "metadata": {},
   "source": [
    "## 3.3 Работа с данными"
   ]
  },
  {
   "cell_type": "markdown",
   "metadata": {},
   "source": [
    "В первой работе была предложена интерпретация распределения на примере населения крупнейших городов Германии. Данные распределены по Парето, но, к сожалению можно показать подбором по методу наименьших квадратов, что параметр $c_0$ распределения при этом будет больше единицы, а значит наша оценка, выведенная для несмещенного (с $c_0 = 1$) распределения Парето тут неприменима."
   ]
  },
  {
   "cell_type": "code",
   "execution_count": 47,
   "metadata": {},
   "outputs": [
    {
     "data": {
      "text/html": [
       "<div>\n",
       "<style scoped>\n",
       "    .dataframe tbody tr th:only-of-type {\n",
       "        vertical-align: middle;\n",
       "    }\n",
       "\n",
       "    .dataframe tbody tr th {\n",
       "        vertical-align: top;\n",
       "    }\n",
       "\n",
       "    .dataframe thead th {\n",
       "        text-align: right;\n",
       "    }\n",
       "</style>\n",
       "<table border=\"1\" class=\"dataframe\">\n",
       "  <thead>\n",
       "    <tr style=\"text-align: right;\">\n",
       "      <th></th>\n",
       "      <th>Rating</th>\n",
       "      <th>Population</th>\n",
       "    </tr>\n",
       "  </thead>\n",
       "  <tbody>\n",
       "    <tr>\n",
       "      <th>0</th>\n",
       "      <td>1</td>\n",
       "      <td>35.200</td>\n",
       "    </tr>\n",
       "    <tr>\n",
       "      <th>1</th>\n",
       "      <td>2</td>\n",
       "      <td>17.952</td>\n",
       "    </tr>\n",
       "    <tr>\n",
       "      <th>2</th>\n",
       "      <td>3</td>\n",
       "      <td>14.432</td>\n",
       "    </tr>\n",
       "    <tr>\n",
       "      <th>3</th>\n",
       "      <td>4</td>\n",
       "      <td>10.560</td>\n",
       "    </tr>\n",
       "    <tr>\n",
       "      <th>4</th>\n",
       "      <td>5</td>\n",
       "      <td>7.392</td>\n",
       "    </tr>\n",
       "  </tbody>\n",
       "</table>\n",
       "</div>"
      ],
      "text/plain": [
       "   Rating  Population\n",
       "0       1      35.200\n",
       "1       2      17.952\n",
       "2       3      14.432\n",
       "3       4      10.560\n",
       "4       5       7.392"
      ]
     },
     "execution_count": 47,
     "metadata": {},
     "output_type": "execute_result"
    }
   ],
   "source": [
    "import pandas as pd\n",
    "from scipy.optimize import curve_fit\n",
    "from matplotlib import pyplot as plt\n",
    "import numpy as np\n",
    "\n",
    "pdata=pd.read_csv(\"German1.csv\")\n",
    "pdata['Population']=pdata['Population']*3520/100 #население в сотнях тысяч человек\n",
    "pdata.head()"
   ]
  },
  {
   "cell_type": "code",
   "execution_count": 64,
   "metadata": {},
   "outputs": [
    {
     "data": {
      "text/plain": [
       "array([6.05773278e-01, 1.00000000e+03])"
      ]
     },
     "execution_count": 64,
     "metadata": {},
     "output_type": "execute_result"
    }
   ],
   "source": [
    "def pdf(x, alpha=2, c0=1):\n",
    "    return alpha/c0*(c0/x)**(alpha+1)\n",
    "\n",
    "x=pdata[\"Rating\"].values\n",
    "y=pdata[\"Population\"].values\n",
    "popt, pcov = curve_fit(pdf, x, y,bounds=([0,0], [20, 1000])) #Подбор параметров для минимального СКО\n",
    "popt"
   ]
  },
  {
   "cell_type": "code",
   "execution_count": 65,
   "metadata": {},
   "outputs": [
    {
     "data": {
      "image/png": "[encoded data removed]",
      "text/plain": [
       "<Figure size 432x288 with 1 Axes>"
      ]
     },
     "metadata": {
      "needs_background": "light"
     },
     "output_type": "display_data"
    }
   ],
   "source": [
    "plt.plot(x, y, 'b-', label='data', color=\"black\")\n",
    "plt.plot(x, pdf(x, *popt), 'r-', label='fit: alpha=%5.7f, c0=%5.3f' % tuple(popt))\n",
    "plt.legend()\n",
    "plt.show()"
   ]
  },
  {
   "cell_type": "markdown",
   "metadata": {},
   "source": [
    "При установлении ограничения на $c_0$ функция распределения и данные не совпадают"
   ]
  },
  {
   "cell_type": "code",
   "execution_count": 66,
   "metadata": {},
   "outputs": [
    {
     "data": {
      "image/png": "[encoded data removed]",
      "text/plain": [
       "<Figure size 432x288 with 1 Axes>"
      ]
     },
     "metadata": {
      "needs_background": "light"
     },
     "output_type": "display_data"
    }
   ],
   "source": [
    "x=pdata[\"Rating\"].values\n",
    "y=pdata[\"Population\"].values\n",
    "popt, pcov = curve_fit(pdf, x, y,bounds=([0,0.99], [1000, 1])) #Подбор параметров для минимального СКО\n",
    "plt.plot(x, y, 'b-', label='data', color=\"black\")\n",
    "plt.plot(x, pdf(x, *popt), 'r-', label='fit: alpha=%5.7f, c0=%5.3f' % tuple(popt))\n",
    "plt.legend()\n",
    "plt.show()"
   ]
  },
  {
   "cell_type": "code",
   "execution_count": null,
   "metadata": {},
   "outputs": [],
   "source": []
  }
 ],
 "metadata": {
  "kernelspec": {
   "display_name": "Python 3",
   "language": "python",
   "name": "python3"
  },
  "language_info": {
   "codemirror_mode": {
    "name": "ipython",
    "version": 3
   },
   "file_extension": ".py",
   "mimetype": "text/x-python",
   "name": "python",
   "nbconvert_exporter": "python",
   "pygments_lexer": "ipython3",
   "version": "3.7.3"
  }
 },
 "nbformat": 4,
 "nbformat_minor": 2
}
